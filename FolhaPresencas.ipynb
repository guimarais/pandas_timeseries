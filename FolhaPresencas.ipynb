{
 "cells": [
  {
   "cell_type": "code",
   "execution_count": 1,
   "metadata": {},
   "outputs": [],
   "source": [
    "import numpy as np\n",
    "import pandas as pd"
   ]
  },
  {
   "cell_type": "markdown",
   "metadata": {},
   "source": [
    "# Get Callendar with business days only"
   ]
  },
  {
   "cell_type": "code",
   "execution_count": 2,
   "metadata": {},
   "outputs": [],
   "source": [
    "initial_day = pd.datetime(2017, 1, 2)\n",
    "final_day = pd.datetime(2017, 12, 29)"
   ]
  },
  {
   "cell_type": "code",
   "execution_count": 3,
   "metadata": {},
   "outputs": [],
   "source": [
    "bus_days = pd.date_range(initial_day, final_day, freq=pd.tseries.offsets.BDay())"
   ]
  },
  {
   "cell_type": "code",
   "execution_count": 4,
   "metadata": {},
   "outputs": [
    {
     "data": {
      "text/plain": [
       "Timestamp('2017-01-04 00:00:00', freq='B')"
      ]
     },
     "execution_count": 4,
     "metadata": {},
     "output_type": "execute_result"
    }
   ],
   "source": [
    "bus_days[2]"
   ]
  },
  {
   "cell_type": "markdown",
   "metadata": {},
   "source": [
    "# List with the starting dates of your projects and travel days."
   ]
  },
  {
   "cell_type": "code",
   "execution_count": 5,
   "metadata": {},
   "outputs": [],
   "source": [
    "projects = [['IPFN - Lisboa', 'AUG Campaigns', pd.datetime(2017, 1, 2), 'Experimental data analysis'],\n",
    "            ['IPP - Garching', 'MST1 Campaigns', pd.datetime(2017, 3, 5), 'Participation in MST1 experimental campaigns'],\n",
    "            ['IPP - Garching', 'AUG Campaigns', pd.datetime(2017, 3, 19), 'Participation in AUG experimental campaigns'],\n",
    "            ['IPFN - Lisboa', 'AUG Campaigns', pd.datetime(2017, 4, 10), 'Density profile data analysis'],\n",
    "            ['IPP - Garching', 'AUG Campaigns', pd.datetime(2017, 5, 2), 'Participation in AUG experimental campaigns'],\n",
    "            ['IPFN - Lisboa', 'AUG Campaigns', pd.datetime(2017, 5, 22), 'Data analysis'],\n",
    "            ['IPP - Garching', 'AUG Campaigns', pd.datetime(2017, 6, 11), 'Participation in AUG experimental campaigns'],\n",
    "            ['dummy', 'dummy', final_day, 'dummy'],\n",
    "           ]"
   ]
  },
  {
   "cell_type": "code",
   "execution_count": 6,
   "metadata": {},
   "outputs": [],
   "source": [
    "holidays = [pd.datetime(2017, 4, 14), pd.datetime(2017, 4, 25), pd.datetime(2017, 5, 1), pd.datetime(2017, 6, 15),\n",
    "           pd.datetime(2017, 10, 5), pd.datetime(2017, 11, 1), pd.datetime(2017, 12, 1), pd.datetime(2017, 12, 8),\n",
    "           pd.datetime(2017, 12, 25)]"
   ]
  },
  {
   "cell_type": "code",
   "execution_count": 7,
   "metadata": {},
   "outputs": [],
   "source": [
    "initial_vac_day = pd.datetime(2017, 8, 1)\n",
    "final_vac_day = pd.datetime(2017, 8, 26)\n",
    "vacations = pd.date_range(start=initial_vac_day, end=final_vac_day)"
   ]
  },
  {
   "cell_type": "code",
   "execution_count": 8,
   "metadata": {},
   "outputs": [],
   "source": [
    "projectnumber = 0\n",
    "folha = []\n",
    "for day in bus_days:\n",
    "    if (day >= projects[projectnumber][2]) & (day < projects[projectnumber+1][2]):\n",
    "        if day in holidays:\n",
    "            continue\n",
    "        elif day in vacations:\n",
    "            continue\n",
    "        else:\n",
    "            days = {}\n",
    "            days['e-mail'] = 'guimas@ipfn.tecnico.ulisboa.pt'\n",
    "            days[r'Local (como na Intranet)'] = projects[projectnumber][0]\n",
    "            days[r'N. Projecto (como na Intranet)'] = projects[projectnumber][1]\n",
    "            init_hour = day + pd.to_timedelta(9, unit='h') + pd.to_timedelta(int(np.random.uniform(low=1, high=58)), unit='m') + pd.to_timedelta(int(np.random.uniform(low=1, high=58)), unit='s')\n",
    "            days['Inicio'] = init_hour\n",
    "            fin_hour = init_hour + pd.to_timedelta(7, unit='h') + pd.to_timedelta(int(np.random.uniform(low=1, high=8)), unit='m') + pd.to_timedelta(int(np.random.uniform(low=1, high=12)), unit='s')\n",
    "            days['Final'] = fin_hour\n",
    "            days['Descricao'] = projects[projectnumber][3]\n",
    "            folha.append(days)\n",
    "    else:\n",
    "        projectnumber = projectnumber + 1 "
   ]
  },
  {
   "cell_type": "markdown",
   "metadata": {},
   "source": [
    "# Create a dataframe from the list and reorganize it."
   ]
  },
  {
   "cell_type": "code",
   "execution_count": 9,
   "metadata": {},
   "outputs": [],
   "source": [
    "df = pd.DataFrame.from_dict(folha)\n",
    "ddf = df[['e-mail',r'N. Projecto (como na Intranet)',r'Local (como na Intranet)','Inicio','Final','Descricao']]"
   ]
  },
  {
   "cell_type": "markdown",
   "metadata": {},
   "source": [
    "Number of working days"
   ]
  },
  {
   "cell_type": "code",
   "execution_count": 15,
   "metadata": {},
   "outputs": [
    {
     "data": {
      "text/plain": [
       "225"
      ]
     },
     "execution_count": 15,
     "metadata": {},
     "output_type": "execute_result"
    }
   ],
   "source": [
    "len(ddf)"
   ]
  },
  {
   "cell_type": "markdown",
   "metadata": {},
   "source": [
    "# Number of different entries per item"
   ]
  },
  {
   "cell_type": "code",
   "execution_count": 23,
   "metadata": {},
   "outputs": [
    {
     "data": {
      "text/plain": [
       "e-mail                              1\n",
       "N. Projecto (como na Intranet)      2\n",
       "Local (como na Intranet)            2\n",
       "Inicio                            225\n",
       "Final                             225\n",
       "Descricao                           5\n",
       "dtype: int64"
      ]
     },
     "execution_count": 23,
     "metadata": {},
     "output_type": "execute_result"
    }
   ],
   "source": [
    "ddf.nunique()"
   ]
  },
  {
   "cell_type": "markdown",
   "metadata": {},
   "source": [
    "# Number of days per project"
   ]
  },
  {
   "cell_type": "code",
   "execution_count": 34,
   "metadata": {},
   "outputs": [
    {
     "data": {
      "text/plain": [
       "N. Projecto (como na Intranet)\n",
       "AUG Campaigns     216\n",
       "MST1 Campaigns      9\n",
       "Name: N. Projecto (como na Intranet), dtype: int64"
      ]
     },
     "execution_count": 34,
     "metadata": {},
     "output_type": "execute_result"
    }
   ],
   "source": [
    "df.groupby('N. Projecto (como na Intranet)')['N. Projecto (como na Intranet)'].count()"
   ]
  },
  {
   "cell_type": "markdown",
   "metadata": {},
   "source": [
    "# View of the sheet"
   ]
  },
  {
   "cell_type": "code",
   "execution_count": 20,
   "metadata": {},
   "outputs": [
    {
     "data": {
      "text/html": [
       "<div>\n",
       "<style>\n",
       "    .dataframe thead tr:only-child th {\n",
       "        text-align: right;\n",
       "    }\n",
       "\n",
       "    .dataframe thead th {\n",
       "        text-align: left;\n",
       "    }\n",
       "\n",
       "    .dataframe tbody tr th {\n",
       "        vertical-align: top;\n",
       "    }\n",
       "</style>\n",
       "<table border=\"1\" class=\"dataframe\">\n",
       "  <thead>\n",
       "    <tr style=\"text-align: right;\">\n",
       "      <th></th>\n",
       "      <th>e-mail</th>\n",
       "      <th>N. Projecto (como na Intranet)</th>\n",
       "      <th>Local (como na Intranet)</th>\n",
       "      <th>Inicio</th>\n",
       "      <th>Final</th>\n",
       "      <th>Descricao</th>\n",
       "    </tr>\n",
       "  </thead>\n",
       "  <tbody>\n",
       "    <tr>\n",
       "      <th>0</th>\n",
       "      <td>guimas@ipfn.tecnico.ulisboa.pt</td>\n",
       "      <td>AUG Campaigns</td>\n",
       "      <td>IPFN - Lisboa</td>\n",
       "      <td>2017-01-02 09:12:52</td>\n",
       "      <td>2017-01-02 16:13:57</td>\n",
       "      <td>Experimental data analysis</td>\n",
       "    </tr>\n",
       "    <tr>\n",
       "      <th>1</th>\n",
       "      <td>guimas@ipfn.tecnico.ulisboa.pt</td>\n",
       "      <td>AUG Campaigns</td>\n",
       "      <td>IPFN - Lisboa</td>\n",
       "      <td>2017-01-03 09:02:21</td>\n",
       "      <td>2017-01-03 16:07:28</td>\n",
       "      <td>Experimental data analysis</td>\n",
       "    </tr>\n",
       "    <tr>\n",
       "      <th>2</th>\n",
       "      <td>guimas@ipfn.tecnico.ulisboa.pt</td>\n",
       "      <td>AUG Campaigns</td>\n",
       "      <td>IPFN - Lisboa</td>\n",
       "      <td>2017-01-04 09:01:26</td>\n",
       "      <td>2017-01-04 16:02:31</td>\n",
       "      <td>Experimental data analysis</td>\n",
       "    </tr>\n",
       "    <tr>\n",
       "      <th>3</th>\n",
       "      <td>guimas@ipfn.tecnico.ulisboa.pt</td>\n",
       "      <td>AUG Campaigns</td>\n",
       "      <td>IPFN - Lisboa</td>\n",
       "      <td>2017-01-05 09:06:29</td>\n",
       "      <td>2017-01-05 16:10:32</td>\n",
       "      <td>Experimental data analysis</td>\n",
       "    </tr>\n",
       "    <tr>\n",
       "      <th>4</th>\n",
       "      <td>guimas@ipfn.tecnico.ulisboa.pt</td>\n",
       "      <td>AUG Campaigns</td>\n",
       "      <td>IPFN - Lisboa</td>\n",
       "      <td>2017-01-06 09:06:45</td>\n",
       "      <td>2017-01-06 16:12:52</td>\n",
       "      <td>Experimental data analysis</td>\n",
       "    </tr>\n",
       "  </tbody>\n",
       "</table>\n",
       "</div>"
      ],
      "text/plain": [
       "                           e-mail N. Projecto (como na Intranet)  \\\n",
       "0  guimas@ipfn.tecnico.ulisboa.pt                  AUG Campaigns   \n",
       "1  guimas@ipfn.tecnico.ulisboa.pt                  AUG Campaigns   \n",
       "2  guimas@ipfn.tecnico.ulisboa.pt                  AUG Campaigns   \n",
       "3  guimas@ipfn.tecnico.ulisboa.pt                  AUG Campaigns   \n",
       "4  guimas@ipfn.tecnico.ulisboa.pt                  AUG Campaigns   \n",
       "\n",
       "  Local (como na Intranet)              Inicio               Final  \\\n",
       "0            IPFN - Lisboa 2017-01-02 09:12:52 2017-01-02 16:13:57   \n",
       "1            IPFN - Lisboa 2017-01-03 09:02:21 2017-01-03 16:07:28   \n",
       "2            IPFN - Lisboa 2017-01-04 09:01:26 2017-01-04 16:02:31   \n",
       "3            IPFN - Lisboa 2017-01-05 09:06:29 2017-01-05 16:10:32   \n",
       "4            IPFN - Lisboa 2017-01-06 09:06:45 2017-01-06 16:12:52   \n",
       "\n",
       "                    Descricao  \n",
       "0  Experimental data analysis  \n",
       "1  Experimental data analysis  \n",
       "2  Experimental data analysis  \n",
       "3  Experimental data analysis  \n",
       "4  Experimental data analysis  "
      ]
     },
     "execution_count": 20,
     "metadata": {},
     "output_type": "execute_result"
    }
   ],
   "source": [
    "ddf.head()"
   ]
  },
  {
   "cell_type": "markdown",
   "metadata": {},
   "source": [
    "Save to an excel file"
   ]
  },
  {
   "cell_type": "code",
   "execution_count": 10,
   "metadata": {},
   "outputs": [],
   "source": [
    "name = 'LuisGuimarais'\n",
    "writer = pd.ExcelWriter(name+'.xlsx')\n",
    "ddf.to_excel(writer, sheet_name=name)\n",
    "writer.save()"
   ]
  },
  {
   "cell_type": "code",
   "execution_count": 36,
   "metadata": {},
   "outputs": [
    {
     "data": {
      "text/plain": [
       "224"
      ]
     },
     "execution_count": 36,
     "metadata": {},
     "output_type": "execute_result"
    }
   ],
   "source": [
    "46+68+33+32+45"
   ]
  },
  {
   "cell_type": "code",
   "execution_count": null,
   "metadata": {},
   "outputs": [],
   "source": []
  }
 ],
 "metadata": {
  "kernelspec": {
   "display_name": "Python 2",
   "language": "python",
   "name": "python2"
  },
  "language_info": {
   "codemirror_mode": {
    "name": "ipython",
    "version": 2
   },
   "file_extension": ".py",
   "mimetype": "text/x-python",
   "name": "python",
   "nbconvert_exporter": "python",
   "pygments_lexer": "ipython2",
   "version": "2.7.13"
  }
 },
 "nbformat": 4,
 "nbformat_minor": 2
}
