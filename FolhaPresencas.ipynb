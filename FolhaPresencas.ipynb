{
 "cells": [
  {
   "cell_type": "code",
   "execution_count": 1,
   "metadata": {},
   "outputs": [],
   "source": [
    "import numpy as np\n",
    "import pandas as pd"
   ]
  },
  {
   "cell_type": "markdown",
   "metadata": {},
   "source": [
    "# Get Callendar"
   ]
  },
  {
   "cell_type": "code",
   "execution_count": 2,
   "metadata": {},
   "outputs": [],
   "source": [
    "initial_day = pd.datetime(2017, 1, 2)\n",
    "final_day = pd.datetime(2017, 12, 29)"
   ]
  },
  {
   "cell_type": "code",
   "execution_count": 3,
   "metadata": {},
   "outputs": [],
   "source": [
    "bus_days = pd.date_range(initial_day, final_day, freq=pd.tseries.offsets.BDay())"
   ]
  },
  {
   "cell_type": "code",
   "execution_count": 4,
   "metadata": {},
   "outputs": [
    {
     "data": {
      "text/plain": [
       "Timestamp('2017-01-04 00:00:00', freq='B')"
      ]
     },
     "execution_count": 4,
     "metadata": {},
     "output_type": "execute_result"
    }
   ],
   "source": [
    "bus_days[2]"
   ]
  },
  {
   "cell_type": "code",
   "execution_count": 5,
   "metadata": {},
   "outputs": [],
   "source": [
    "projects = [['IPFN - Lisboa', 'AUG Campaigns', pd.datetime(2017, 1, 2), 'Experimental data analysis'],\n",
    "            ['IPP - Garching', 'MST1 Campaigns', pd.datetime(2017, 3, 5), 'Participation in MST1 experimental campaigns'],\n",
    "            ['IPP - Garching', 'AUG Campaigns', pd.datetime(2017, 3, 19), 'Participation in AUG experimental campaigns'],\n",
    "            ['IPFN - Lisboa', 'AUG Campaigns', pd.datetime(2017, 4, 10), 'Density profile data analysis'],\n",
    "            ['IPP - Garching', 'AUG Campaigns', pd.datetime(2017, 5, 2), 'Participation in AUG experimental campaigns'],\n",
    "            ['IPFN - Lisboa', 'AUG Campaigns', pd.datetime(2017, 5, 22), 'Data analysis'],\n",
    "            ['IPP - Garching', 'AUG Campaigns', pd.datetime(2017, 6, 11), 'Participation in AUG experimental campaigns'],\n",
    "            ['dummy', 'dummy', final_day, 'dummy'],\n",
    "           ]"
   ]
  },
  {
   "cell_type": "code",
   "execution_count": 43,
   "metadata": {},
   "outputs": [],
   "source": [
    "holidays = [pd.datetime(2017, 4, 14), pd.datetime(2017, 4, 25), pd.datetime(2017, 5, 1), pd.datetime(2017, 6, 15),\n",
    "           pd.datetime(2017, 10, 5), pd.datetime(2017, 11, 1), pd.datetime(2017, 12, 1), pd.datetime(2017, 12, 8),\n",
    "           pd.datetime(2017, 12, 25)]"
   ]
  },
  {
   "cell_type": "code",
   "execution_count": 58,
   "metadata": {},
   "outputs": [],
   "source": [
    "initial_vac_day = pd.datetime(2017, 8, 1)\n",
    "final_vac_day = pd.datetime(2017, 8, 26)\n",
    "vacations = pd.date_range(start=initial_vac_day, end=final_vac_day)"
   ]
  },
  {
   "cell_type": "code",
   "execution_count": 59,
   "metadata": {},
   "outputs": [],
   "source": [
    "projectnumber = 0\n",
    "folha = []\n",
    "for day in bus_days:\n",
    "    if (day >= projects[projectnumber][2]) & (day < projects[projectnumber+1][2]):\n",
    "        if day in holidays:\n",
    "            continue\n",
    "        elif day in vacations:\n",
    "            continue\n",
    "        else:\n",
    "            days = {}\n",
    "            days['e-mail'] = 'guimas@ipfn.tecnico.ulisboa.pt'\n",
    "            days[r'Local (como na Intranet)'] = projects[projectnumber][0]\n",
    "            days[r'N. Projecto (como na Intranet)'] = projects[projectnumber][1]\n",
    "            init_hour = day + pd.to_timedelta(9, unit='h') + pd.to_timedelta(int(np.random.uniform(low=1, high=58)), unit='m') + pd.to_timedelta(int(np.random.uniform(low=1, high=58)), unit='s')\n",
    "            days['Inicio'] = init_hour\n",
    "            fin_hour = init_hour + pd.to_timedelta(7, unit='h') + pd.to_timedelta(int(np.random.uniform(low=1, high=8)), unit='m') + pd.to_timedelta(int(np.random.uniform(low=1, high=12)), unit='s')\n",
    "            days['Final'] = fin_hour\n",
    "            days['Descricao'] = projects[projectnumber][3]\n",
    "            folha.append(days)\n",
    "    else:\n",
    "        projectnumber = projectnumber + 1 "
   ]
  },
  {
   "cell_type": "code",
   "execution_count": 60,
   "metadata": {},
   "outputs": [],
   "source": [
    "df = pd.DataFrame.from_dict(folha)"
   ]
  },
  {
   "cell_type": "code",
   "execution_count": 62,
   "metadata": {},
   "outputs": [],
   "source": [
    "ddf = df[['e-mail',r'N. Projecto (como na Intranet)',r'Local (como na Intranet)','Inicio','Final','Descricao']]\n",
    "name = 'LuisGuimarais'\n",
    "writer = pd.ExcelWriter(name+'.xlsx')\n",
    "ddf.to_excel(writer, sheet_name=name)\n",
    "writer.save()"
   ]
  },
  {
   "cell_type": "code",
   "execution_count": 63,
   "metadata": {},
   "outputs": [
    {
     "data": {
      "text/plain": [
       "225"
      ]
     },
     "execution_count": 63,
     "metadata": {},
     "output_type": "execute_result"
    }
   ],
   "source": [
    "len(ddf)"
   ]
  },
  {
   "cell_type": "code",
   "execution_count": null,
   "metadata": {},
   "outputs": [],
   "source": []
  }
 ],
 "metadata": {
  "kernelspec": {
   "display_name": "Python 2",
   "language": "python",
   "name": "python2"
  },
  "language_info": {
   "codemirror_mode": {
    "name": "ipython",
    "version": 2
   },
   "file_extension": ".py",
   "mimetype": "text/x-python",
   "name": "python",
   "nbconvert_exporter": "python",
   "pygments_lexer": "ipython2",
   "version": "2.7.13"
  }
 },
 "nbformat": 4,
 "nbformat_minor": 2
}
